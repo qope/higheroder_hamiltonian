{
 "cells": [
  {
   "cell_type": "code",
   "execution_count": 2,
   "id": "021237ef",
   "metadata": {},
   "outputs": [],
   "source": [
    "import numpy as np\n",
    "from numpy.linalg import norm\n",
    "from scipy.linalg import kron\n",
    "from scipy.stats import unitary_group\n",
    "from scipy.sparse.linalg import svds, eigsh\n",
    "import random\n",
    "from scipy.linalg import expm, sinm, cosm\n",
    "np.set_printoptions(precision=3)\n",
    "N = 10 # number of spins\n",
    "d = 2 # dim"
   ]
  },
  {
   "cell_type": "code",
   "execution_count": 3,
   "id": "0a163ccd",
   "metadata": {},
   "outputs": [],
   "source": [
    "sx = np.array([[0,1],[1,0]])\n",
    "sy = np.array([[0,-1j],[1j,0]])\n",
    "sz = np.array([[1,0],[0,-1]])\n",
    "sxsx = kron(sx, sx)\n",
    "szsz = kron(sz, sz)\n",
    "sysy = kron(sy, sy)\n",
    "h = sxsx + sysy + szsz"
   ]
  },
  {
   "cell_type": "code",
   "execution_count": 4,
   "id": "0375cc88",
   "metadata": {},
   "outputs": [
    {
     "name": "stdout",
     "output_type": "stream",
     "text": [
      "[[ 0.115+0.j     0.315+0.051j  0.315+0.051j  0.841+0.277j]\n",
      " [ 0.315-0.051j -0.115+0.j     0.885+0.j    -0.315-0.051j]\n",
      " [ 0.315-0.051j  0.885+0.j    -0.115+0.j    -0.315-0.051j]\n",
      " [ 0.841-0.277j -0.315+0.051j -0.315+0.051j  0.115+0.j   ]]\n"
     ]
    }
   ],
   "source": [
    "U = unitary_group.rvs(2)\n",
    "UU = kron(U, U)\n",
    "print((UU.conj().T@szsz@UU))"
   ]
  },
  {
   "cell_type": "code",
   "execution_count": 28,
   "id": "6fb0f63b",
   "metadata": {},
   "outputs": [
    {
     "name": "stdout",
     "output_type": "stream",
     "text": [
      "E/N= -1.7032140829131521\n"
     ]
    }
   ],
   "source": [
    "H = 0\n",
    "for i in range(N-1):\n",
    "    H += np.kron(np.eye(d**i), np.kron(h, np.eye(d**(N-2-i))))\n",
    "w, v = eigsh(H, k=1)\n",
    "print(\"E/N=\", w[0]/N)"
   ]
  },
  {
   "cell_type": "code",
   "execution_count": 6,
   "id": "986286c7",
   "metadata": {},
   "outputs": [],
   "source": [
    "def random_pauli():\n",
    "    return random.choice([np.eye(d), sx, sy, sz])\n",
    "W = random_pauli()\n",
    "for i in range(N-1):\n",
    "    W = kron(W, random_pauli())"
   ]
  },
  {
   "cell_type": "code",
   "execution_count": 7,
   "id": "a0321ed9",
   "metadata": {
    "scrolled": true
   },
   "outputs": [],
   "source": [
    "def make_p(l):\n",
    "    v = np.array([[1],[0]]) if l[0]==0 else np.array([[0],[1]]) \n",
    "    for x in l[1:]:\n",
    "        qbit = np.array([[1],[0]]) if x==0 else np.array([[0],[1]]) \n",
    "        v = kron(v, qbit)\n",
    "    return v\n",
    "\n",
    "onep = 0\n",
    "for i in range(N):\n",
    "    r = [1 if j==i else 0 for j in range(N)]\n",
    "    onep = onep + make_p(r)@make_p(r).conj().T"
   ]
  },
  {
   "cell_type": "code",
   "execution_count": 8,
   "id": "93487985",
   "metadata": {},
   "outputs": [
    {
     "data": {
      "text/plain": [
       "0.0"
      ]
     },
     "execution_count": 8,
     "metadata": {},
     "output_type": "execute_result"
    }
   ],
   "source": [
    "dtheta = 0.01\n",
    "def random_pauli():\n",
    "    return random.choice([np.eye(d), sx, sy, sz])\n",
    "W = random_pauli()\n",
    "for i in range(N-1):\n",
    "    W = kron(W, random_pauli())\n",
    "np.linalg.norm(W - W.conj().T)\n",
    "F = W@onep@W.conj().T\n",
    "np.linalg.norm(F - F.conj().T)"
   ]
  },
  {
   "cell_type": "code",
   "execution_count": 29,
   "id": "b1c5d0a8",
   "metadata": {},
   "outputs": [],
   "source": [
    "def eval_energy(W):\n",
    "    psiket = W@make_p([0]*N)\n",
    "    E = psiket.conj().T@H@psiket\n",
    "    return E[0][0].real/N"
   ]
  },
  {
   "cell_type": "code",
   "execution_count": 40,
   "id": "ff557d49",
   "metadata": {},
   "outputs": [
    {
     "name": "stdout",
     "output_type": "stream",
     "text": [
      "0.3\n",
      "0.040600584366774314\n"
     ]
    }
   ],
   "source": [
    "def random_pauli():\n",
    "    return random.choice([np.eye(d), sx, sy, sz])\n",
    "W = random_pauli()\n",
    "for i in range(N-1):\n",
    "    W = kron(W, random_pauli())\n",
    "\n",
    "\n",
    "print(eval_energy(W))\n",
    "F = W@onep@W.conj().T\n",
    "A = H@F - F@H\n",
    "Ud = expm(10000000000000000*A)\n",
    "nW = Ud@W\n",
    "print(eval_energy(nW))"
   ]
  },
  {
   "cell_type": "code",
   "execution_count": 19,
   "id": "fe55c099",
   "metadata": {},
   "outputs": [
    {
     "data": {
      "text/plain": [
       "array([0.+0.j])"
      ]
     },
     "execution_count": 19,
     "metadata": {},
     "output_type": "execute_result"
    }
   ],
   "source": [
    "zeroket = make_p([0]*N)\n",
    "psiket = W@zeroket\n",
    "E = psiket.conj().T@H@psiket\n",
    "psiket[0]"
   ]
  },
  {
   "cell_type": "code",
   "execution_count": 31,
   "id": "4b3fad7d",
   "metadata": {},
   "outputs": [
    {
     "data": {
      "text/plain": [
       "array([[1.-0.j, 0.-0.j, 0.-0.j, ..., 0.-0.j, 0.-0.j, 0.-0.j],\n",
       "       [0.-0.j, 1.-0.j, 0.-0.j, ..., 0.-0.j, 0.-0.j, 0.-0.j],\n",
       "       [0.-0.j, 0.-0.j, 1.-0.j, ..., 0.-0.j, 0.-0.j, 0.-0.j],\n",
       "       ...,\n",
       "       [0.+0.j, 0.+0.j, 0.+0.j, ..., 1.+0.j, 0.+0.j, 0.+0.j],\n",
       "       [0.+0.j, 0.+0.j, 0.+0.j, ..., 0.+0.j, 1.+0.j, 0.+0.j],\n",
       "       [0.+0.j, 0.+0.j, 0.+0.j, ..., 0.+0.j, 0.+0.j, 1.+0.j]])"
      ]
     },
     "execution_count": 31,
     "metadata": {},
     "output_type": "execute_result"
    }
   ],
   "source": [
    "Ud"
   ]
  }
 ],
 "metadata": {
  "kernelspec": {
   "display_name": "Python 3 (ipykernel)",
   "language": "python",
   "name": "python3"
  },
  "language_info": {
   "codemirror_mode": {
    "name": "ipython",
    "version": 3
   },
   "file_extension": ".py",
   "mimetype": "text/x-python",
   "name": "python",
   "nbconvert_exporter": "python",
   "pygments_lexer": "ipython3",
   "version": "3.9.10"
  }
 },
 "nbformat": 4,
 "nbformat_minor": 5
}
